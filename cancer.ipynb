{
 "cells": [
  {
   "cell_type": "markdown",
   "metadata": {},
   "source": [
    "# Library Imports"
   ]
  },
  {
   "cell_type": "code",
   "execution_count": null,
   "metadata": {},
   "outputs": [],
   "source": [
    "import os\n",
    "import glob\n",
    "import numpy as np\n",
    "import torch\n",
    "import matplotlib.pyplot as plt"
   ]
  },
  {
   "cell_type": "markdown",
   "metadata": {},
   "source": [
    "# Data import"
   ]
  },
  {
   "cell_type": "code",
   "execution_count": null,
   "metadata": {},
   "outputs": [],
   "source": [
    "main_path = os.path.join('data', 'intel-mobileodt-cervical-cancer-screening')\n",
    "data_path = os.path.join(main_path, 'train', 'train')\n",
    "images  =  [glob.glob(os.path.join(data_path, d, \"*.*\")) for d in os.listdir(data_path)]\n",
    "train_paths = np.hstack(images)\n",
    "# Additional data\n",
    "extra_1 = os.path.join(main_path, 'additional_Type_1_v2')\n",
    "extra_2 = os.path.join(main_path, 'additional_Type_2_v2')\n",
    "extra_3 = os.path.join(main_path, 'additional_Type_3_v2')\n",
    "images1 = [glob.glob(os.path.join(extra_1, d, \"*.*\")) for d in os.listdir(extra_1)]\n",
    "images2 = [glob.glob(os.path.join(extra_2, d, \"*.*\")) for d in os.listdir(extra_2)]\n",
    "images3 = [glob.glob(os.path.join(extra_3, d, \"*.*\")) for d in os.listdir(extra_3)]\n",
    "train_paths = np.append(train_paths, np.hstack(images1))\n",
    "train_paths = np.append(train_paths, np.hstack(images2))\n",
    "train_paths = np.append(train_paths, np.hstack(images3))"
   ]
  },
  {
   "cell_type": "code",
   "execution_count": null,
   "metadata": {},
   "outputs": [],
   "source": [
    "print(f'In this train set we have got a total of {len(train_paths)}')\n",
    "N_EPOCHS = 10\n",
    "OUTPUT_PATH = './'\n",
    "BATCH_SIZE = 32\n",
    "# detect and define device \n",
    "device = torch.device('cuda' if torch.cuda.is_available() else 'cpu')\n",
    "print(device)\n",
    "device = torch.device(device)\n",
    "cpu = torch.device('cpu')"
   ]
  },
  {
   "cell_type": "markdown",
   "metadata": {},
   "source": [
    "# Image examples"
   ]
  },
  {
   "cell_type": "code",
   "execution_count": null,
   "metadata": {},
   "outputs": [],
   "source": [
    "fig = plt.figure(figsize=(8, 8), dpi=80)\n",
    "columns = 3\n",
    "rows = 1\n",
    "img_type1 = plt.imread(os.path.join(data_path, 'Type_1', '0.jpg'))\n",
    "fig.add_subplot(rows, columns, 1)\n",
    "plt.title(\"Type1\")\n",
    "plt.axis('off')\n",
    "plt.imshow(img_type1)\n",
    "\n",
    "img_type2 = plt.imread(os.path.join(data_path, 'Type_2', '1.jpg'))\n",
    "fig.add_subplot(rows, columns, 2)\n",
    "plt.title(\"Type2\")\n",
    "plt.axis('off')\n",
    "plt.imshow(img_type2)\n",
    "\n",
    "img_type3 = plt.imread(os.path.join(data_path, 'Type_3', '3.jpg'))\n",
    "fig.add_subplot(rows, columns, 3)\n",
    "plt.title(\"Type3\")\n",
    "plt.axis('off')\n",
    "plt.imshow(img_type3)"
   ]
  },
  {
   "cell_type": "markdown",
   "metadata": {},
   "source": [
    "# Library Imports"
   ]
  },
  {
   "cell_type": "code",
   "execution_count": null,
   "metadata": {},
   "outputs": [],
   "source": [
    "from torchvision import datasets, models, transforms\n",
    "from torch.utils.data import DataLoader, Dataset\n",
    "from torch import nn, optim\n",
    "from PIL import Image"
   ]
  },
  {
   "cell_type": "markdown",
   "metadata": {},
   "source": [
    "# Define Transformations"
   ]
  },
  {
   "cell_type": "code",
   "execution_count": null,
   "metadata": {},
   "outputs": [],
   "source": [
    "# Define your transformations\n",
    "transform = transforms.Compose([\n",
    "    transforms.Resize((224, 224)),\n",
    "    transforms.ToTensor(),\n",
    "    transforms.Normalize([0.485, 0.456, 0.406], [0.229, 0.224, 0.225])\n",
    "])"
   ]
  },
  {
   "cell_type": "markdown",
   "metadata": {},
   "source": [
    "# Dataset Class"
   ]
  },
  {
   "cell_type": "code",
   "execution_count": null,
   "metadata": {},
   "outputs": [],
   "source": [
    "# Custom dataset class\n",
    "class CervicalCancerDataset(Dataset):\n",
    "    def __init__(self, img_paths, transform=None):\n",
    "        self.img_paths = img_paths\n",
    "        self.transform = transform\n",
    "\n",
    "    def __len__(self):\n",
    "        return len(self.img_paths)\n",
    "\n",
    "    def __getitem__(self, idx):\n",
    "        img_path = self.img_paths[idx]\n",
    "        try:\n",
    "            image = Image.open(img_path).convert('RGB')\n",
    "        except IOError:\n",
    "            print(f\"Could not read image: {img_path}. Possibly corrupted file.\")\n",
    "            return None, None\n",
    "        label = int(os.path.basename(os.path.dirname(img_path)).split('_')[-1]) - 1\n",
    "\n",
    "        if self.transform:\n",
    "            image = self.transform(image)\n",
    "\n",
    "        return image, label"
   ]
  },
  {
   "cell_type": "markdown",
   "metadata": {},
   "source": [
    "# Real Image Validation"
   ]
  },
  {
   "cell_type": "code",
   "execution_count": null,
   "metadata": {},
   "outputs": [],
   "source": [
    "def validate_image(image_path):\n",
    "    try:\n",
    "        Image.open(image_path).convert('RGB')\n",
    "        return True\n",
    "    except IOError:\n",
    "        return False\n",
    "\n",
    "train_paths = [path for path in train_paths if validate_image(path)]"
   ]
  },
  {
   "cell_type": "markdown",
   "metadata": {},
   "source": [
    "# Dataset Creation"
   ]
  },
  {
   "cell_type": "code",
   "execution_count": null,
   "metadata": {},
   "outputs": [],
   "source": [
    "# Create dataset\n",
    "dataset = CervicalCancerDataset(train_paths, transform=transform)"
   ]
  },
  {
   "cell_type": "markdown",
   "metadata": {},
   "source": [
    "# Create Train and Test Dataloaders"
   ]
  },
  {
   "cell_type": "code",
   "execution_count": null,
   "metadata": {},
   "outputs": [],
   "source": [
    "# # Create dataloader\n",
    "# dataloader = DataLoader(dataset, batch_size=32, shuffle=True)\n",
    "\n",
    "from torch.utils.data import random_split\n",
    "\n",
    "# Split the dataset into training and test sets\n",
    "train_size = int(0.8 * len(dataset))  # 80% of the dataset for training\n",
    "test_size = len(dataset) - train_size  # 20% of the dataset for testing\n",
    "train_dataset, test_dataset = random_split(dataset, [train_size, test_size])\n",
    "\n",
    "# Create data loaders for the training and test sets\n",
    "train_dataloader = DataLoader(train_dataset, batch_size=32, shuffle=True)\n",
    "test_dataloader = DataLoader(test_dataset, batch_size=32, shuffle=False)"
   ]
  },
  {
   "cell_type": "markdown",
   "metadata": {},
   "source": [
    "# CUDA (GPU) or CPU"
   ]
  },
  {
   "cell_type": "code",
   "execution_count": null,
   "metadata": {},
   "outputs": [],
   "source": [
    "# Detect if we have a GPU available\n",
    "device = torch.device(\"cuda:0\" if torch.cuda.is_available() else \"cpu\")"
   ]
  },
  {
   "cell_type": "markdown",
   "metadata": {},
   "source": [
    "# Model Initialization (RESNET used)"
   ]
  },
  {
   "cell_type": "code",
   "execution_count": null,
   "metadata": {},
   "outputs": [],
   "source": [
    "# Initialize the model\n",
    "model = models.resnet50(pretrained=True)"
   ]
  },
  {
   "cell_type": "markdown",
   "metadata": {},
   "source": [
    "# Final Layer Creation"
   ]
  },
  {
   "cell_type": "code",
   "execution_count": null,
   "metadata": {},
   "outputs": [],
   "source": [
    "# Adjust the final layer to match the number of classes in your dataset\n",
    "num_ftrs = model.fc.in_features\n",
    "model.fc = nn.Linear(num_ftrs, 3)  # Assuming there are 3 types of cervix"
   ]
  },
  {
   "cell_type": "markdown",
   "metadata": {},
   "source": [
    "# Moves the Model to choosen Device"
   ]
  },
  {
   "cell_type": "code",
   "execution_count": null,
   "metadata": {},
   "outputs": [],
   "source": [
    "model = model.to(device)"
   ]
  },
  {
   "cell_type": "markdown",
   "metadata": {},
   "source": [
    "# Define the loss function and optimizer"
   ]
  },
  {
   "cell_type": "code",
   "execution_count": null,
   "metadata": {},
   "outputs": [],
   "source": [
    "# Define the loss function and optimizer\n",
    "criterion = nn.CrossEntropyLoss()\n",
    "optimizer = optim.SGD(model.parameters(), lr=0.001, momentum=0.9)"
   ]
  },
  {
   "cell_type": "markdown",
   "metadata": {},
   "source": [
    "# FGSM Attack Code"
   ]
  },
  {
   "cell_type": "code",
   "execution_count": null,
   "metadata": {},
   "outputs": [],
   "source": [
    "# FGSM attack code\n",
    "def fgsm_attack(image, epsilon, data_grad):\n",
    "    # Collect the element-wise sign of the data gradient\n",
    "    sign_data_grad = data_grad.sign()\n",
    "    # Create the perturbed image by adjusting each pixel of the input image\n",
    "    perturbed_image = image + epsilon*sign_data_grad\n",
    "    # Adding clipping to maintain [0,1] range\n",
    "    perturbed_image = torch.clamp(perturbed_image, 0, 1)\n",
    "    # Return the perturbed image\n",
    "    return perturbed_image"
   ]
  },
  {
   "cell_type": "markdown",
   "metadata": {},
   "source": [
    "# Original Dataset Training and Adversarial Attack"
   ]
  },
  {
   "cell_type": "code",
   "execution_count": null,
   "metadata": {},
   "outputs": [],
   "source": [
    "# Training and adversarial attack\n",
    "num_epochs = 10  # define the number of epochs you want\n",
    "epsilon = 0.3  # Adjust as necessary\n",
    "for epoch in range(num_epochs):\n",
    "    model.train()\n",
    "    running_loss = 0.0\n",
    "    running_corrects = 0\n",
    "    adversarial_corrects = 0\n",
    "\n",
    "    for inputs, labels in train_dataloader:\n",
    "        if inputs is None or labels is None:  # Skip corrupted files\n",
    "            continue\n",
    "\n",
    "        inputs = inputs.to(device).requires_grad_(True)  # Set requires_grad attribute to True for creating adversarial images\n",
    "        labels = labels.to(device)\n",
    "\n",
    "        optimizer.zero_grad()\n",
    "\n",
    "        outputs = model(inputs)\n",
    "        _, preds = torch.max(outputs, 1)\n",
    "        loss = criterion(outputs, labels)\n",
    "\n",
    "        loss.backward()\n",
    "\n",
    "        # Collect datagrad\n",
    "        data_grad = inputs.grad.data\n",
    "\n",
    "        # Call FGSM Attack\n",
    "        adversarial_data = fgsm_attack(inputs, epsilon, data_grad)\n",
    "\n",
    "        # Re-classify the perturbed image\n",
    "        adversarial_outputs = model(adversarial_data)\n",
    "        _, adversarial_preds = torch.max(adversarial_outputs, 1)\n",
    "\n",
    "        optimizer.step()\n",
    "\n",
    "        running_loss += loss.item() * inputs.size(0)\n",
    "        running_corrects += torch.sum(preds == labels.data)\n",
    "        adversarial_corrects += torch.sum(adversarial_preds == labels.data)\n",
    "\n",
    "    epoch_loss = running_loss / len(dataset)\n",
    "    epoch_acc = running_corrects.double() / len(dataset)\n",
    "    adversarial_acc = adversarial_corrects.double() / len(dataset)\n",
    "\n",
    "    print('Epoch {}/{} Loss: {:.4f} Acc: {:.4f} Adversarial Acc: {:.4f}'.format(epoch + 1, num_epochs, epoch_loss, epoch_acc, adversarial_acc))\n",
    "\n",
    "print('Training complete')"
   ]
  },
  {
   "cell_type": "markdown",
   "metadata": {},
   "source": [
    "# Adversarial Training"
   ]
  },
  {
   "cell_type": "code",
   "execution_count": null,
   "metadata": {},
   "outputs": [],
   "source": [
    "# Adversarial Training\n",
    "num_epochs = 10  # define the number of epochs you want\n",
    "epsilon = 0.3  # Adjust as necessary\n",
    "for epoch in range(num_epochs):\n",
    "    model.train()\n",
    "    running_loss = 0.0\n",
    "    running_corrects = 0\n",
    "\n",
    "    for inputs, labels in train_dataloader:\n",
    "        if inputs is None or labels is None:  # Skip corrupted files\n",
    "            continue\n",
    "\n",
    "        inputs = inputs.to(device).requires_grad_(True)  # Set requires_grad attribute to True for creating adversarial images\n",
    "        labels = labels.to(device)\n",
    "\n",
    "        optimizer.zero_grad()\n",
    "\n",
    "        # Generate adversarial data\n",
    "        outputs = model(inputs)\n",
    "        _, preds = torch.max(outputs, 1)\n",
    "        loss = criterion(outputs, labels)\n",
    "        loss.backward()\n",
    "        data_grad = inputs.grad.data\n",
    "        adversarial_data = fgsm_attack(inputs, epsilon, data_grad)\n",
    "\n",
    "        # Train on adversarial data\n",
    "        optimizer.zero_grad()\n",
    "        adversarial_outputs = model(adversarial_data)\n",
    "        _, adversarial_preds = torch.max(adversarial_outputs, 1)\n",
    "        adversarial_loss = criterion(adversarial_outputs, labels)\n",
    "        adversarial_loss.backward()\n",
    "        optimizer.step()\n",
    "\n",
    "        running_loss += adversarial_loss.item() * inputs.size(0)\n",
    "        running_corrects += torch.sum(adversarial_preds == labels.data)\n",
    "\n",
    "    epoch_loss = running_loss / len(dataset)\n",
    "    epoch_acc = running_corrects.double() / len(dataset)\n",
    "\n",
    "    print('Epoch {}/{} Loss: {:.4f} Acc: {:.4f}'.format(epoch + 1, num_epochs, epoch_loss, epoch_acc))\n",
    "\n",
    "print('Training complete')"
   ]
  },
  {
   "cell_type": "code",
   "execution_count": null,
   "metadata": {},
   "outputs": [],
   "source": [
    "# Random Perturbation Attack\n",
    "def random_perturbation_attack(image, epsilon):\n",
    "    # Generate random perturbation\n",
    "    perturbation = torch.FloatTensor(image.size()).uniform_(-epsilon, epsilon).to(image.device)\n",
    "    # Add the perturbation to the image\n",
    "    perturbed_image = image + perturbation\n",
    "    # Clip the perturbed image to maintain [0,1] range\n",
    "    perturbed_image = torch.clamp(perturbed_image, 0, 1)\n",
    "    # Return the perturbed image\n",
    "    return perturbed_image"
   ]
  },
  {
   "cell_type": "code",
   "execution_count": null,
   "metadata": {},
   "outputs": [],
   "source": [
    "# Training and adversarial attack\n",
    "num_epochs = 10  # define the number of epochs you want\n",
    "epsilon = 0.3  # Adjust as necessary\n",
    "\n",
    "for epoch in range(num_epochs):\n",
    "    model.train()\n",
    "    running_loss = 0.0\n",
    "    running_corrects = 0\n",
    "    adversarial_corrects = 0\n",
    "\n",
    "    for inputs, labels in train_dataloader:\n",
    "        if inputs is None or labels is None:  # Skip corrupted files\n",
    "            continue\n",
    "\n",
    "        inputs = inputs.to(device).requires_grad_(True)  # Set requires_grad attribute to True for creating adversarial images\n",
    "        labels = labels.to(device)\n",
    "\n",
    "        optimizer.zero_grad()\n",
    "\n",
    "        outputs = model(inputs)\n",
    "        _, preds = torch.max(outputs, 1)\n",
    "        loss = criterion(outputs, labels)\n",
    "\n",
    "        loss.backward()\n",
    "\n",
    "        # Collect datagrad\n",
    "        data_grad = inputs.grad.data\n",
    "\n",
    "        # Call Random Perturbation Attack\n",
    "        adversarial_data = random_perturbation_attack(inputs, epsilon)\n",
    "\n",
    "        # Re-classify the perturbed image\n",
    "        adversarial_outputs = model(adversarial_data)\n",
    "        _, adversarial_preds = torch.max(adversarial_outputs, 1)\n",
    "\n",
    "        optimizer.step()\n",
    "\n",
    "        running_loss += loss.item() * inputs.size(0)\n",
    "        running_corrects += torch.sum(preds == labels.data)\n",
    "        adversarial_corrects += torch.sum(adversarial_preds == labels.data)\n",
    "\n",
    "    epoch_loss = running_loss / len(dataset)\n",
    "    epoch_acc = running_corrects.double() / len(dataset)\n",
    "    adversarial_acc = adversarial_corrects.double() / len(dataset)\n",
    "\n",
    "    print('Epoch {}/{} Loss: {:.4f} Acc: {:.4f} Adversarial Acc: {:.4f}'.format(epoch + 1, num_epochs, epoch_loss, epoch_acc, adversarial_acc))\n",
    "\n",
    "print('Training complete')"
   ]
  },
  {
   "cell_type": "code",
   "execution_count": null,
   "metadata": {},
   "outputs": [],
   "source": [
    "# Gaussian Noise Attack\n",
    "def gaussian_noise_attack(image, epsilon):\n",
    "    # Generate Gaussian noise\n",
    "    noise = torch.randn_like(image) * epsilon\n",
    "    # Add the noise to the image\n",
    "    perturbed_image = image + noise\n",
    "    # Clip the perturbed image to maintain [0,1] range\n",
    "    perturbed_image = torch.clamp(perturbed_image, 0, 1)\n",
    "    # Return the perturbed image\n",
    "    return perturbed_image"
   ]
  },
  {
   "cell_type": "code",
   "execution_count": null,
   "metadata": {},
   "outputs": [],
   "source": [
    "# Training and adversarial attack\n",
    "num_epochs = 10  # define the number of epochs you want\n",
    "epsilon = 0.3  # Adjust as necessary\n",
    "\n",
    "for epoch in range(num_epochs):\n",
    "    model.train()\n",
    "    running_loss = 0.0\n",
    "    running_corrects = 0\n",
    "    adversarial_corrects = 0\n",
    "\n",
    "    for inputs, labels in train_dataloader:\n",
    "        if inputs is None or labels is None:  # Skip corrupted files\n",
    "            continue\n",
    "\n",
    "        inputs = inputs.to(device).requires_grad_(True)  # Set requires_grad attribute to True for creating adversarial images\n",
    "        labels = labels.to(device)\n",
    "\n",
    "        optimizer.zero_grad()\n",
    "\n",
    "        outputs = model(inputs)\n",
    "        _, preds = torch.max(outputs, 1)\n",
    "        loss = criterion(outputs, labels)\n",
    "\n",
    "        loss.backward()\n",
    "\n",
    "        # Collect datagrad\n",
    "        data_grad = inputs.grad.data\n",
    "\n",
    "        # Call Gaussian Noise Attack\n",
    "        adversarial_data = gaussian_noise_attack(inputs, epsilon)\n",
    "\n",
    "        # Re-classify the perturbed image\n",
    "        adversarial_outputs = model(adversarial_data)\n",
    "        _, adversarial_preds = torch.max(adversarial_outputs, 1)\n",
    "\n",
    "        optimizer.step()\n",
    "\n",
    "        running_loss += loss.item() * inputs.size(0)\n",
    "        running_corrects += torch.sum(preds == labels.data)\n",
    "        adversarial_corrects += torch.sum(adversarial_preds == labels.data)\n",
    "\n",
    "    epoch_loss = running_loss / len(dataset)\n",
    "    epoch_acc = running_corrects.double() / len(dataset)\n",
    "    adversarial_acc = adversarial_corrects.double() / len(dataset)\n",
    "\n",
    "    print('Epoch {}/{} Loss: {:.4f} Acc: {:.4f} Adversarial Acc: {:.4f}'.format(epoch + 1, num_epochs, epoch_loss, epoch_acc, adversarial_acc))\n",
    "\n",
    "print('Training complete')"
   ]
  },
  {
   "cell_type": "code",
   "execution_count": null,
   "metadata": {},
   "outputs": [],
   "source": [
    "# BIM attack code\n",
    "def bim_attack(model, loss, images, labels, epsilon, alpha, num_iter):\n",
    "    original_images = images.clone()\n",
    "    for i in range(num_iter):\n",
    "        images.requires_grad = True\n",
    "        outputs = model(images)\n",
    "\n",
    "        cost = loss(outputs, labels).to(device)\n",
    "        cost.backward()\n",
    "\n",
    "        attack_images = images + alpha*images.grad.sign()\n",
    "        eta = torch.clamp(attack_images - original_images, min=-epsilon, max=epsilon)\n",
    "        images = torch.clamp(original_images + eta, min=0, max=1).detach_()\n",
    "\n",
    "    return images"
   ]
  },
  {
   "cell_type": "code",
   "execution_count": null,
   "metadata": {},
   "outputs": [],
   "source": [
    "# Training and adversarial attack\n",
    "num_epochs = 10  # define the number of epochs you want\n",
    "epsilon = 0.3  # Adjust as necessary\n",
    "alpha = 0.01  # step size for BIM attack\n",
    "num_iter = 10  # number of iterations for BIM attack\n",
    "for epoch in range(num_epochs):\n",
    "    model.train()\n",
    "    running_loss = 0.0\n",
    "    running_corrects = 0\n",
    "    adversarial_corrects = 0\n",
    "\n",
    "    for inputs, labels in train_dataloader:\n",
    "        if inputs is None or labels is None:  # Skip corrupted files\n",
    "            continue\n",
    "\n",
    "        inputs = inputs.to(device).requires_grad_(True)  # Set requires_grad attribute to True for creating adversarial images\n",
    "        labels = labels.to(device)\n",
    "\n",
    "        optimizer.zero_grad()\n",
    "\n",
    "        outputs = model(inputs)\n",
    "        _, preds = torch.max(outputs, 1)\n",
    "        loss = criterion(outputs, labels)\n",
    "\n",
    "        loss.backward()\n",
    "\n",
    "        # Collect datagrad\n",
    "        data_grad = inputs.grad.data\n",
    "\n",
    "        # Call BIM Attack\n",
    "        adversarial_data = bim_attack(model, criterion, inputs, labels, epsilon, alpha, num_iter)\n",
    "\n",
    "        # Re-classify the perturbed image\n",
    "        adversarial_outputs = model(adversarial_data)\n",
    "        _, adversarial_preds = torch.max(adversarial_outputs, 1)\n",
    "\n",
    "        optimizer.step()\n",
    "\n",
    "        running_loss += loss.item() * inputs.size(0)\n",
    "        running_corrects += torch.sum(preds == labels.data)\n",
    "        adversarial_corrects += torch.sum(adversarial_preds == labels.data)\n",
    "\n",
    "    epoch_loss = running_loss / len(dataset)\n",
    "    epoch_acc = running_corrects.double() / len(dataset)\n",
    "    adversarial_acc = adversarial_corrects.double() / len(dataset)\n",
    "\n",
    "    print('Epoch {}/{} Loss: {:.4f} Acc: {:.4f} Adversarial Acc: {:.4f}'.format(epoch + 1, num_epochs, epoch_loss, epoch_acc, adversarial_acc))\n",
    "\n",
    "print('Training complete')"
   ]
  },
  {
   "cell_type": "markdown",
   "metadata": {},
   "source": [
    "# Testing on Original and Adversarial Examples"
   ]
  },
  {
   "cell_type": "code",
   "execution_count": null,
   "metadata": {},
   "outputs": [],
   "source": [
    "def test(model, attack_type, dataloader, epsilon):\n",
    "    model.eval()\n",
    "\n",
    "    # Accuracy counter for original and adversarial examples\n",
    "    correct = 0\n",
    "    adversarial_correct = 0\n",
    "\n",
    "    for inputs, labels in dataloader:\n",
    "        if inputs is None or labels is None:  # Skip corrupted files\n",
    "            continue\n",
    "\n",
    "        inputs = inputs.to(device).requires_grad_(True)  # Set requires_grad attribute to True for creating adversarial images\n",
    "        labels = labels.to(device)\n",
    "\n",
    "        outputs = model(inputs)\n",
    "        _, preds = torch.max(outputs, 1)\n",
    "\n",
    "        correct += (preds == labels).sum().item()\n",
    "\n",
    "        # Generate adversarial examples\n",
    "        loss = criterion(outputs, labels)\n",
    "        model.zero_grad()\n",
    "        loss.backward()\n",
    "\n",
    "        data_grad = inputs.grad.data\n",
    "        adversarial_data = attack_type(inputs, epsilon, data_grad)\n",
    "\n",
    "        # Classify the adversarial examples\n",
    "        adversarial_outputs = model(adversarial_data)\n",
    "        _, adversarial_preds = torch.max(adversarial_outputs, 1)\n",
    "\n",
    "        adversarial_correct += (adversarial_preds == labels).sum().item()\n",
    "\n",
    "    # Calculate final accuracy for original and adversarial examples\n",
    "    acc = correct / len(dataloader.dataset)\n",
    "    adversarial_acc = adversarial_correct / len(dataloader.dataset)\n",
    "\n",
    "    print(f\"Epsilon: {epsilon}\\tTest Accuracy = {acc}\\tAdversarial Accuracy = {adversarial_acc}\")\n",
    "\n",
    "    return acc, adversarial_acc"
   ]
  },
  {
   "cell_type": "markdown",
   "metadata": {},
   "source": [
    "# Use the test function"
   ]
  },
  {
   "cell_type": "code",
   "execution_count": null,
   "metadata": {},
   "outputs": [],
   "source": [
    "# Use the test function\n",
    "test(model, fgsm_attack, test_dataloader, epsilon=0.3)\n",
    "test(model, random_perturbation_attack, test_dataloader, epsilon=0.3)\n",
    "test(model, gaussian_noise_attack, test_dataloader, epsilon=0.3)\n",
    "test(model, bim_attack, test_dataloader, epsilon=0.3)"
   ]
  }
 ],
 "metadata": {
  "kernelspec": {
   "display_name": "Python 3",
   "language": "python",
   "name": "python3"
  },
  "language_info": {
   "codemirror_mode": {
    "name": "ipython",
    "version": 3
   },
   "file_extension": ".py",
   "mimetype": "text/x-python",
   "name": "python",
   "nbconvert_exporter": "python",
   "pygments_lexer": "ipython3",
   "version": "3.10.11"
  },
  "orig_nbformat": 4
 },
 "nbformat": 4,
 "nbformat_minor": 2
}
